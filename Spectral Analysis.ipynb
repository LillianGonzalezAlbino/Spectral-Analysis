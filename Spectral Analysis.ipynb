{
 "cells": [
  {
   "cell_type": "markdown",
   "metadata": {},
   "source": [
    "# Phenotype Response to Higher Order Gene Interactions\n",
    "## A Spectral Analysis Approach  \n",
    "In this notebook we implement a spectral analysis on a genomic dataset with the means to analize higher order mutation interactions. The code is generalized for any dataset of similar structure with any measurable phenotype response, but we will be focusing on Hemoglobin response and thirteen mutations that were hand-picked by Dr. Emilia Huertas-Sánchez and her lab. This research started as a project for the MSRI Undergraduate Program that took place from June to July 2018 at the University of Berkeley, California.  \n",
    "\n",
    "$\\textbf{Mentors}$: Dr. David Uminsky$^{1}$, Dr. Mario Bañuelos$^{2}$, Dr. Emilia Huertas-Sánchez$^{3}$  \n",
    "$\\textbf{Undergraduate Students}$: R. Garza$^{4}$, L. González-Albino$^{5}$, S. Nwakanma$^{6}$   \n",
    "$^{1}$ University of San Francisco  \n",
    "$^{2}$ California State University  \n",
    "$^{3}$ Brown University  \n",
    "$^{4}$ California State University, Monterey Bay  \n",
    "$^{5}$ University of Puerto Rico, Río Piedras  \n",
    "$^{6}$ Pomona College  "
   ]
  },
  {
   "cell_type": "markdown",
   "metadata": {},
   "source": [
    "## Dependancies  \n",
    "We stored all out dependancies and functions used for the implementation of the spectral analysis in a separate file $utils$, so we import them. "
   ]
  },
  {
   "cell_type": "code",
   "execution_count": 3,
   "metadata": {},
   "outputs": [],
   "source": [
    "from utils import *"
   ]
  },
  {
   "cell_type": "markdown",
   "metadata": {},
   "source": [
    "## User Prompts"
   ]
  },
  {
   "cell_type": "code",
   "execution_count": 6,
   "metadata": {},
   "outputs": [],
   "source": [
    "# specify valid file path\n",
    "file_path = \"../Data for Fourier/Females-logbwd70.csv\"\n",
    "\n",
    "# options: \"Heterozygous\", \"Homozygous\", \"Mutation Presence\"\n",
    "# must be written exactly as the options above (first letters upper case)\n",
    "reduction = \"Homozygous\"\n",
    "\n",
    "# specify the phenotype response that is being analyzed\n",
    "# preferably with capital letter, e.g. \"Hemoglobin\"\n",
    "data_phenotype = \"logbwd70\""
   ]
  },
  {
   "cell_type": "markdown",
   "metadata": {},
   "source": [
    "## Upload of Dataset and Reduction of the Dataset  \n",
    "Give a valid file path for the dataset you want to analyse, the file must be .csv. Choose the type of reduction for the dataset, options for the reduction are heterozygous, homozygous, and mutation presence. For the heterozygous reduction, we record a mutation as present if a subject has only one copy of said mutation. The homozygous reduction, we record a mutation as present if a subject has both copies of said mutation. And for the mutation presence reduction, a mutation is recorded if a subject has at least one copy of said mutation. In esence, the heterozygous is an \"xor\" reduction, the homozygous is an \"and\" reduction, the mutation presence reduction is an \"or\" reduction. We will refere to these reductions as \"xor\", \"and\" and \"or\" reductons respectively.  "
   ]
  },
  {
   "cell_type": "code",
   "execution_count": 7,
   "metadata": {},
   "outputs": [],
   "source": [
    "# reducing dataset, do not change arguments given to reduce_data function\n",
    "# gene_mut = reduce_data(file_path, reduction)"
   ]
  },
  {
   "cell_type": "code",
   "execution_count": 8,
   "metadata": {},
   "outputs": [],
   "source": [
    "# for rat mutations, the dataset was organized differently\n",
    "geneDat = pd.read_csv(file_path, index_col='Unnamed: 0', encoding='utf-8')\n",
    "matrix = geneDat.values\n",
    "geneMut = np.zeros((matrix.shape[0],matrix.shape[1]))\n",
    "for rows in range(matrix.shape[0]):\n",
    "    for cols in range(matrix.shape[1]-1):\n",
    "        if(reduction == \"Heterozygous\"):\n",
    "            if(matrix[rows][cols] == 1):\n",
    "                geneMut[rows][cols] = 1\n",
    "        elif(reduction == \"Homozygous\"):\n",
    "            if(matrix[rows][cols] == 2):\n",
    "                geneMut[rows][cols] = 1\n",
    "        elif(reduction == \"Mutation Presence\"):\n",
    "            if(matrix[rows][cols] >= 1):\n",
    "                geneMut[rows][cols] = 1\n",
    "        else:\n",
    "            print(\"Choose a valid option for reduction of the dataset.\")\n",
    "geneMut[:,-1] = matrix[:,-1]\n",
    "gene_mut = geneMut"
   ]
  },
  {
   "cell_type": "markdown",
   "metadata": {},
   "source": [
    "## Spectral Analysis of Reduced Dataset  \n",
    "This portion of the notebook contains the actual impementation of the spectral analysis on the dataset given specifications described above. To sumarize, we partition or data matrix into smaller matrices where each smaller matrix has the same amount of ones (or mutations) in each row, analogous to partitioning the data vector to $f^{(n,k)}$ where $n$ is the total amount of mutations and $k$ is the amount of mutations per row (or subject) in each partition. We chose to partition the data matrix first and then create the data vector of each smaller matrix than to create a larger data vector and then partition it. Then we 'flip' the partitions that have $k > \\text{floor of } \\frac{n}{2}$, this decision was made so that we can continue studying the zeros as minorities. With this, we create data vectors $f^{(n,k)}$'s for each partition and impute the zero entries with the average of all non-zero entries as a way to normalize our data vectors. For each $f^{(n,k)}$, we project it onto its appropiate basis to effectively remove redundant information without altering data i.e. we orthogonally decompose our $f^{(n,k)}$'s. As a final step, we apply Mallow's method to transform our $f^{(n,k)}_i$'s for each $k > \\text{floor of } \\frac{n}{2}$ and $0 \\leq i \\leq k$ into interpretable data vectors. These interpretable data vector are what we want to plot and analyze, here they will be stored in the variables $min\\_vectors$, and $maj\\_vectors$ where the contain data vectors with $k < \\text{floor of } \\frac{n}{2}$ and $k > \\text{floor of } \\frac{n}{2}$ respectively.  \n",
    "\n",
    "The data vectors are structured the following way:  \n",
    "$maj\\_vectors = \\lbrack \\ ( \\ 1, \\ \\lbrack f^{(n,1)}_0,f^{(n,2)}_1\\rbrack \\ ), \\ \\ ( \\ 2, \\ \\lbrack f^{(n,2)}_0,f^{(n,2)}_1,f^{(n,2)}_2\\rbrack \\ ), \\cdots \\ \\ ,( \\ k, \\ \\lbrack f_0^{(n,k)},f_1^{(n,k)},\\cdots \\ \\ ,f_k^{(n,k)}\\rbrack \\ ) \\ \\rbrack$ where $k\\leq \\text{floor of } \\frac{n}{2}$  \n",
    "$min\\_vectors = \\lbrack \\ ( \\ k+1 , \\ \\lbrack f_0^{(n,n-k+1)},f_1^{(n,n-k+1)},\\cdots \\ \\ ,f^{(n,n-k+1)}_{n-k+1} \\rbrack \\ ), \\cdots \\ \\ , ( \\ n-1, \\ \\lbrack f_0^{(n,2)},f_1^{(n,2)},f_2^{(n,2)} \\ \\rbrack \\ ), \\ ( \\ n, \\ \\lbrack f_0^{(n,1)},f_1^{(n,1)} \\ \\rbrack \\ ) \\rbrack$  \n",
    "\n",
    "It is important to know that if there are no subjects with exatly $x$ amount of mutations, then the element $( \\ x, \\ \\lbrack f_0^{(n,x)},f_1^{(n,x)}, \\cdots \\ \\ , f_x^{(n,x)} \\rbrack \\ )$ will not appear on either $maj\\_vectors$ or $min\\_vectors$.  "
   ]
  },
  {
   "cell_type": "code",
   "execution_count": null,
   "metadata": {},
   "outputs": [],
   "source": [
    "# make copy of reduced dataset\n",
    "raw_data = np.copy(gene_mut)\n",
    "\n",
    "# classify data into smaller matrices where each has the same amount of mutations per row\n",
    "# count number of zeros (list of ints) and number of mutations (list of ints)\n",
    "num_zeros = num_of_mutations(raw_data)\n",
    "num_muts = raw_data.shape[1]-1\n",
    "# partition data by amount of zeros as sub_data (list of matrices)\n",
    "sub_data = raw_data_partitions(raw_data, num_zeros)\n",
    "# divide partitions into two lists of matrices one with matrices with ceros in the \n",
    "# minority and the other with ceros in the majority\n",
    "min_data, maj_data = minorities_majorities(sub_data)\n",
    "\n",
    "# flip matrices where the amount of mutations per row is bigger than the floor of half the total amount of mutations\n",
    "new_maj_data = flip_majorities(maj_data)\n",
    "\n",
    "# create data vectors (two list of vectors, one for minorities and one for majorities)\n",
    "min_data_vectors_f, min_counter_vectors = create_data_vectors(min_data)\n",
    "maj_data_vectors_f, maj_counter_vectors = create_data_vectors(new_maj_data)\n",
    "\n",
    "# calculate average of all data vectors \n",
    "average = calc_average(min_data_vectors_f, maj_data_vectors_f)\n",
    "\n",
    "# impute all data vectors with average\n",
    "min_data_vectors = impute_data_vector(min_data_vectors_f, average)\n",
    "maj_data_vectors = impute_data_vector(maj_data_vectors_f, average)\n",
    "\n",
    "# variables to store results\n",
    "# will serve as index for min/maj_vectors\n",
    "min_zero_minorities = []\n",
    "for i in range(len(min_data)):\n",
    "    min_zero_minorities.append(min_data[i][0])\n",
    "maj_zero_minorities = []\n",
    "for i in range(len(new_maj_data)):\n",
    "    maj_zero_minorities.append(new_maj_data[i][0])\n",
    "# list of lists of vectors\n",
    "min_vectors = []\n",
    "maj_vectors = []\n",
    "\n",
    "# for each vector in grouping of min_data\n",
    "for kgrouping in range(len(min_data)):\n",
    "    # capture f^(num_muts, k) and k \n",
    "    f = min_data_vectors[kgrouping].reshape(len(min_data_vectors[kgrouping]),1)\n",
    "    k = min_zero_minorities[kgrouping]\n",
    "    # create tuples for k pairings as list\n",
    "    variable_tuples = alphabet_choose_k(list(range(num_muts)), k)\n",
    "    \n",
    "    # calculate adjacency matrices and eigenvectors for basis\n",
    "    adjacency = calc_adj_mat(variable_tuples)\n",
    "    eig_vals, eig_vecs = calc_eig_vec_of_adj_matrix(adjacency)\n",
    "    basis = group_eig_vecs(eig_vals, eig_vecs)\n",
    "    \n",
    "    # project each partition into the appropriate basis\n",
    "    f_list = proj_f_onto_M(f, basis)\n",
    "    \n",
    "    # transform all projections into interpretable vectors using Mallow's Method\n",
    "    Mallow_vectors = Mallows_list(list(range(num_muts)), f_list, (num_muts,int(k)))\n",
    "\n",
    "    # save the k that are in the minorities\n",
    "    min_vectors.append( (num_muts-k,Mallow_vectors) )\n",
    "\n",
    "# for each vector in grouping of new_maj_data\n",
    "for kgrouping in range(len(new_maj_data)):\n",
    "    # capture f^(num_muts, k) and k \n",
    "    f = maj_data_vectors[kgrouping].reshape(len(maj_data_vectors[kgrouping]),1)\n",
    "    k = maj_zero_minorities[kgrouping]\n",
    "    \n",
    "    # calculate adjacency matrices and eigenvectors for basis\n",
    "    # create tuples for k pairings as list\n",
    "    variable_tuples = alphabet_choose_k(list(range(num_muts)), k)\n",
    "    adjacency = calc_adj_mat(variable_tuples)\n",
    "    eig_vals, eig_vecs = calc_eig_vec_of_adj_matrix(adjacency)\n",
    "    basis = group_eig_vecs(eig_vals, eig_vecs)\n",
    "    \n",
    "    # project each partition into the appropriate basis\n",
    "    f_list = proj_f_onto_M(f, basis)\n",
    "    \n",
    "    # transform all projections into interpretable vectors using Mallow's Method\n",
    "    Mallow_vectors = Mallows_list(list(range(num_muts)), f_list, (num_muts,int(k)))\n",
    "\n",
    "    # save the k that are in the minorities\n",
    "    maj_vectors.append( (k,Mallow_vectors) )\n",
    "\n",
    "# flip both min_vectors and maj_vectors so they are in ascending order\n",
    "min_vectors = min_vectors[::-1]\n",
    "maj_vectors = maj_vectors[::-1]"
   ]
  },
  {
   "cell_type": "markdown",
   "metadata": {},
   "source": [
    "## Visualization of Results"
   ]
  },
  {
   "cell_type": "markdown",
   "metadata": {},
   "source": [
    "### Data Exploration\n",
    "#### Histograms  \n",
    "This function displays a histogram of the number of subjects in every grouping of mutation in the reduced dataset. The function uses the reduction specified at the beginning of this notebook. The first input is the reduced dataset $gene\\_mut$ and the second is the reduction used (stored in the variable $reduction$). The third input is a bool, where $0$ means you do not want to save the image of this histogram and $1$ means you do. The fourth input must be the name of a valid folder located in the same place as this notebook, and it will be where the image of the histogram generated will be stored. If the user does not want to save the histogram, it does not matter what string is given as input for the fourth parameter. "
   ]
  },
  {
   "cell_type": "code",
   "execution_count": 5,
   "metadata": {},
   "outputs": [
    {
     "data": {
      "image/png": "[encoded data removed]",
      "text/plain": [
       "<Figure size 432x288 with 1 Axes>"
      ]
     },
     "metadata": {
      "needs_background": "light"
     },
     "output_type": "display_data"
    }
   ],
   "source": [
    "# do you wish to save the histogram? \n",
    "# if yes write 1 and a valid file name, else write 0\n",
    "save = 0\n",
    "file = \"Histograms\"\n",
    "\n",
    "# function call, arguments already inserted\n",
    "histogram_mutations(gene_mut, reduction, save, file)"
   ]
  },
  {
   "cell_type": "markdown",
   "metadata": {},
   "source": [
    "#### Scatterplots  of all the Phenotype Response Levels  \n",
    "This function displays a scatterplot of the phenotype response that is being analyzed and it colors the points that have the same amount of mutations, i.e. subjects with exactly $x$ amount of mutations will be displayed with the same color in the scatterplot. The first argument for this function is a string of the phenotype being analyzed, preferibly with capital letter as we are using it to label the scatterplot. The second argument is the partitioning of the dataset based on groupings of mutations, which is stored in the variable $sub\\_data$. The third argument is a bool, where 0 means you do not want to save the image of this scatterplot and 1 means you do. The fourth input must be the name of a valid folder located in the same place as this notebook, and it will be where the image of the scatterplot generated will be stored. If the user does not want to save the scatterplot, it does not matter what string is given as input for the fourth parameter.  \n",
    "For this section we used code found in https://www.quora.com/How-do-I-generate-n-visually-distinct-RGB-colours-in-Python to generate different colors for the scatterplot.  "
   ]
  },
  {
   "cell_type": "code",
   "execution_count": 6,
   "metadata": {},
   "outputs": [
    {
     "data": {
      "image/png": "[encoded data removed]",
      "text/plain": [
       "<Figure size 432x288 with 1 Axes>"
      ]
     },
     "metadata": {
      "needs_background": "light"
     },
     "output_type": "display_data"
    }
   ],
   "source": [
    "# do you wish to save the scatterplot? \n",
    "# if yes write 1 and a valid file name, else write 0\n",
    "save = 0\n",
    "file = \"Scatterplots\"\n",
    "\n",
    "# function call, arguments already inserted\n",
    "scatterplot_mutations(data_phenotype, sub_data, save, file)"
   ]
  },
  {
   "cell_type": "markdown",
   "metadata": {},
   "source": [
    "### Graphing  \n",
    "This function graphs our spectral analysis results given a grouping of mutations $k$ and an order $i$. The first argument is the options vector which contains information about the data like the reduction technique used and the phenotype response being analyzed. The secont and third argument are the grouping of $k$ mutations and the $i^{th}$ order you want to display respectively. The fourth and fifth argument are the amount of highes peaks and lowest peaks you want to label in the graph. And like the previous histogram and scatterplot functions, the sixth and seventh arguments are for specifying if you want to save the graph in a file, the first is a bool and the second a string with the name of the file where you would like to save the graph. If the user does not want to save the graph, it does not matter what string is given as input for the seventh parameter.  "
   ]
  },
  {
   "cell_type": "code",
   "execution_count": 21,
   "metadata": {},
   "outputs": [
    {
     "data": {
      "image/png": "[encoded data removed]",
      "text/plain": [
       "<Figure size 432x360 with 1 Axes>"
      ]
     },
     "metadata": {
      "needs_background": "light"
     },
     "output_type": "display_data"
    }
   ],
   "source": [
    "# specify a grouping k and an order i you want to display\n",
    "k = 5\n",
    "i = 4\n",
    "\n",
    "# specify the amount of highest and lowest peaks you want to label in the graph\n",
    "high_p = 1\n",
    "low_p = 3\n",
    "\n",
    "# do you wish to save the latex code for this table? \n",
    "# if yes write 1 and a valid file name, else write 0\n",
    "save = 0\n",
    "file = \"PlotsPoster\"\n",
    "\n",
    "# function call, arguments already inserted\n",
    "color_peaks2(min_vectors, maj_vectors, num_muts, reduction, k, i, high_p, low_p, save, file)"
   ]
  },
  {
   "cell_type": "code",
   "execution_count": 19,
   "metadata": {},
   "outputs": [],
   "source": [
    "# input: list of tuples (int, list of vectors), int, int, int, int, int, bool\n",
    "# output: void\n",
    "# this function inputs a Mallow list, the i'th order, the kth partition, and the num of peaks\n",
    "# and outputs a bar-plot of the i'th order effects within gene groupings of k\n",
    "# with the max and min peaks colored\n",
    "def color_peaks2(mindv, majdv, num_muts, reduct, k, order, n_max_peak, n_min_peak, save, file):\n",
    "    plt.figure(figsize=(6,5))\n",
    "    # select correct variable to plot\n",
    "    if(k >= np.floor(num_muts/2)):\n",
    "        MallowDV = mindv\n",
    "    else:\n",
    "        MallowDV = majdv\n",
    "    # define mutation names\n",
    "    gene_names = string.ascii_uppercase[:num_muts]\n",
    "    # all inputs from helper functions \n",
    "    f_i = Mallow_f_order(MallowDV, k, order)\n",
    "    # top peaks and bottom peaks\n",
    "    top_ind = get_n_max(f_i, n_max_peak)\n",
    "    bot_ind = get_n_min(f_i,n_min_peak)\n",
    "    # labeling peaks\n",
    "    list_names = create_list_names(num_muts,k)\n",
    "    diction = dict_names(list_names)\n",
    "    top_peak_gene_names = retrieve_peak_names(diction, top_ind, order)\n",
    "    top_min_peak_gene_names = retrieve_peak_names(diction, bot_ind, order)\n",
    "   \n",
    "    # the codes below changes the size and location of things\n",
    "    x_axis_1 = np.arange(len(f_i))\n",
    "    # width changes size of bars\n",
    "    plt.bar(x_axis_1, f_i, width = 0.8, align = 'center', alpha = 0.5)\n",
    "    # axis labels\n",
    "    if(k >= np.floor(num_muts/2)):\n",
    "        plt.xlabel('Non-Mutation Coalitions in Lexicographical Order',fontsize=17)\n",
    "    else:\n",
    "        plt.xlabel('Mutation Coalitions in Graded-Lexicographical Order',fontsize=17)\n",
    "    \n",
    "    plt.ylabel('Frequency',fontsize=17)\n",
    "    \n",
    "    # plotting\n",
    "    plt.ylim((min(f_i)-2),(max(f_i)+2))\n",
    "    for i in range(len(top_ind)):\n",
    "        plt.bar(top_ind[i],f_i[top_ind[i]], align='center',label=top_peak_gene_names[i])\n",
    "    for j in range(len(bot_ind)):\n",
    "        plt.bar(bot_ind[j],f_i[bot_ind[j]], align='center',label=top_min_peak_gene_names[j])\n",
    "\n",
    "    # changes location of legend\n",
    "#     if(int(order) == 1):\n",
    "#         leg = 1.24\n",
    "#     else:\n",
    "#         leg = 0.02*order + 1.2\n",
    "    leg = 1.35\n",
    "    plt.legend(bbox_to_anchor=(leg, 1), title = ' Coalitions \\n Highest %d \\n Lowest %d'%(n_max_peak, n_min_peak),fontsize=12)\n",
    "    \n",
    "    # naming the plots\n",
    "    \n",
    "    if(k >= np.floor(num_muts/2)):\n",
    "        plt.title('%s Reduction Data Vectors \\n %d° Order Effects Within Groupings of %d Non-Mutations'%(reduct,order, k))\n",
    "    else:\n",
    "        plt.title('%s Reduction Data Vectors \\n %d° Order Effects Within Groupings of %d Mutations'%(reduct,order, k), fontsize=18)\n",
    "    # save plot\n",
    "    if(save == 1):\n",
    "        plt.savefig(\"%s/%s_reduction_order_%d_mutation_%d.png\"%(file,reduct,order,k), bbox_inches=\"tight\")\n",
    "    # show plots\n",
    "    plt.show()\n"
   ]
  },
  {
   "cell_type": "markdown",
   "metadata": {},
   "source": [
    "### Tables  \n",
    "#### Tables of Highest and Lowest Values for Gruopings of $k$ Mutations, Order $i$  \n",
    "This function displays a table with values of coalitions that occur in the dataset, given a specific grouping of mutations $k$, and order $i$, and the number of highest and lowest peaks you want to display. It also gives you the option to save the latex code for the table given a .tex file. It will not overwrite the file, therefore it is safe to input the same file more than once, i.e. it will write the code for the table at the end of the file without altering its other content.  "
   ]
  },
  {
   "cell_type": "code",
   "execution_count": 8,
   "metadata": {},
   "outputs": [
    {
     "data": {
      "text/html": [
       "<div>\n",
       "<style scoped>\n",
       "    .dataframe tbody tr th:only-of-type {\n",
       "        vertical-align: middle;\n",
       "    }\n",
       "\n",
       "    .dataframe tbody tr th {\n",
       "        vertical-align: top;\n",
       "    }\n",
       "\n",
       "    .dataframe thead th {\n",
       "        text-align: right;\n",
       "    }\n",
       "</style>\n",
       "<table border=\"1\" class=\"dataframe\">\n",
       "  <thead>\n",
       "    <tr style=\"text-align: right;\">\n",
       "      <th></th>\n",
       "      <th>Highest</th>\n",
       "      <th>Values</th>\n",
       "      <th>Lowest</th>\n",
       "      <th>Values</th>\n",
       "    </tr>\n",
       "  </thead>\n",
       "  <tbody>\n",
       "    <tr>\n",
       "      <th>0</th>\n",
       "      <td>A, D, E, H</td>\n",
       "      <td>24.46445</td>\n",
       "      <td>A, E, G, J</td>\n",
       "      <td>-31.40283</td>\n",
       "    </tr>\n",
       "    <tr>\n",
       "      <th>1</th>\n",
       "      <td>A, D, G, M</td>\n",
       "      <td>23.78107</td>\n",
       "      <td>A, G, H, J</td>\n",
       "      <td>-28.46354</td>\n",
       "    </tr>\n",
       "    <tr>\n",
       "      <th>2</th>\n",
       "      <td>A, C, G, J</td>\n",
       "      <td>22.17393</td>\n",
       "      <td>None</td>\n",
       "      <td>NaN</td>\n",
       "    </tr>\n",
       "  </tbody>\n",
       "</table>\n",
       "</div>"
      ],
      "text/plain": [
       "      Highest    Values      Lowest    Values\n",
       "0  A, D, E, H  24.46445  A, E, G, J -31.40283\n",
       "1  A, D, G, M  23.78107  A, G, H, J -28.46354\n",
       "2  A, C, G, J  22.17393        None       NaN"
      ]
     },
     "execution_count": 8,
     "metadata": {},
     "output_type": "execute_result"
    }
   ],
   "source": [
    "# specify a grouping k and an order i you want to display\n",
    "k = 5\n",
    "i = 4\n",
    "\n",
    "# specify the amount of highest and lowest peaks you want \n",
    "# to label in the graph\n",
    "high_p = 3\n",
    "low_p = 2\n",
    "\n",
    "# do you wish to save the latex code for this table? \n",
    "# if yes write 1 and a valid file name, else write 0 \n",
    "save = 0\n",
    "file = \"mytable.tex\"\n",
    "\n",
    "# function call, arguments already inserted\n",
    "table_values(gene_mut, min_vectors, maj_vectors, num_muts, k, i, high_p, low_p, save, file)"
   ]
  },
  {
   "cell_type": "markdown",
   "metadata": {},
   "source": [
    "#### Tables for Coalition Effects Across Different Groupings of Mutations  \n",
    "This function displays a table with the value and positioning of a specified coalition across different groupings of mutations and non-mutations. It also gives you the option to save the latex code for the table given a .tex file. It will not overwrite the file, therefore it is safe to input the same file more than once, i.e. it will write the code for the table at the end of the file without altering its other content. When using this table, the .tex file must have the package '\\usepackage[usenames, dvipsnames]{color}' installed.  "
   ]
  },
  {
   "cell_type": "code",
   "execution_count": 17,
   "metadata": {},
   "outputs": [
    {
     "name": "stdout",
     "output_type": "stream",
     "text": [
      "k =  4.0\n",
      "order =  4\n",
      "in else, k =  4.0 order =  4 DV[0][0] = 1.0\n",
      "k =  5.0\n",
      "order =  4\n",
      "in else, k =  5.0 order =  4 DV[0][0] = 1.0\n",
      "k =  6.0\n",
      "order =  4\n",
      "in else, k =  6.0 order =  4 DV[0][0] = 1.0\n",
      "k =  7.0\n",
      "order =  4\n",
      "in else, k =  7.0 order =  4 DV[0][0] = 7.0\n",
      "k =  8.0\n",
      "order =  4\n",
      "in else, k =  8.0 order =  4 DV[0][0] = 7.0\n"
     ]
    },
    {
     "data": {
      "text/html": [
       "<style  type=\"text/css\" >\n",
       "    #T_e82c4db4_c14c_11e8_b81c_a8667f329047row0_col0 {\n",
       "            color:  black;\n",
       "        }    #T_e82c4db4_c14c_11e8_b81c_a8667f329047row0_col1 {\n",
       "            color:  blue;\n",
       "        }    #T_e82c4db4_c14c_11e8_b81c_a8667f329047row0_col2 {\n",
       "            color:  black;\n",
       "        }    #T_e82c4db4_c14c_11e8_b81c_a8667f329047row1_col0 {\n",
       "            color:  black;\n",
       "        }    #T_e82c4db4_c14c_11e8_b81c_a8667f329047row1_col1 {\n",
       "            color:  blue;\n",
       "        }    #T_e82c4db4_c14c_11e8_b81c_a8667f329047row1_col2 {\n",
       "            color:  black;\n",
       "        }    #T_e82c4db4_c14c_11e8_b81c_a8667f329047row2_col0 {\n",
       "            color:  black;\n",
       "        }    #T_e82c4db4_c14c_11e8_b81c_a8667f329047row2_col1 {\n",
       "            color:  red;\n",
       "        }    #T_e82c4db4_c14c_11e8_b81c_a8667f329047row2_col2 {\n",
       "            color:  black;\n",
       "        }    #T_e82c4db4_c14c_11e8_b81c_a8667f329047row3_col0 {\n",
       "            color:  black;\n",
       "        }    #T_e82c4db4_c14c_11e8_b81c_a8667f329047row3_col1 {\n",
       "            color:  blue;\n",
       "        }    #T_e82c4db4_c14c_11e8_b81c_a8667f329047row3_col2 {\n",
       "            color:  black;\n",
       "        }</style>  \n",
       "<table id=\"T_e82c4db4_c14c_11e8_b81c_a8667f329047\" > \n",
       "<thead>    <tr> \n",
       "        <th class=\"blank level0\" ></th> \n",
       "        <th class=\"col_heading level0 col0\" >Grouping</th> \n",
       "        <th class=\"col_heading level0 col1\" >Value</th> \n",
       "        <th class=\"col_heading level0 col2\" >Position</th> \n",
       "    </tr></thead> \n",
       "<tbody>    <tr> \n",
       "        <th id=\"T_e82c4db4_c14c_11e8_b81c_a8667f329047level0_row0\" class=\"row_heading level0 row0\" >0</th> \n",
       "        <td id=\"T_e82c4db4_c14c_11e8_b81c_a8667f329047row0_col0\" class=\"data row0 col0\" >4</td> \n",
       "        <td id=\"T_e82c4db4_c14c_11e8_b81c_a8667f329047row0_col1\" class=\"data row0 col1\" >-43.4975</td> \n",
       "        <td id=\"T_e82c4db4_c14c_11e8_b81c_a8667f329047row0_col2\" class=\"data row0 col2\" >1°</td> \n",
       "    </tr>    <tr> \n",
       "        <th id=\"T_e82c4db4_c14c_11e8_b81c_a8667f329047level0_row1\" class=\"row_heading level0 row1\" >1</th> \n",
       "        <td id=\"T_e82c4db4_c14c_11e8_b81c_a8667f329047row1_col0\" class=\"data row1 col0\" >5</td> \n",
       "        <td id=\"T_e82c4db4_c14c_11e8_b81c_a8667f329047row1_col1\" class=\"data row1 col1\" >-22.5018</td> \n",
       "        <td id=\"T_e82c4db4_c14c_11e8_b81c_a8667f329047row1_col2\" class=\"data row1 col2\" >3°</td> \n",
       "    </tr>    <tr> \n",
       "        <th id=\"T_e82c4db4_c14c_11e8_b81c_a8667f329047level0_row2\" class=\"row_heading level0 row2\" >2</th> \n",
       "        <td id=\"T_e82c4db4_c14c_11e8_b81c_a8667f329047row2_col0\" class=\"data row2 col0\" >6</td> \n",
       "        <td id=\"T_e82c4db4_c14c_11e8_b81c_a8667f329047row2_col1\" class=\"data row2 col1\" >1.69671</td> \n",
       "        <td id=\"T_e82c4db4_c14c_11e8_b81c_a8667f329047row2_col2\" class=\"data row2 col2\" >30°</td> \n",
       "    </tr>    <tr> \n",
       "        <th id=\"T_e82c4db4_c14c_11e8_b81c_a8667f329047level0_row3\" class=\"row_heading level0 row3\" >3</th> \n",
       "        <td id=\"T_e82c4db4_c14c_11e8_b81c_a8667f329047row3_col0\" class=\"data row3 col0\" >7</td> \n",
       "        <td id=\"T_e82c4db4_c14c_11e8_b81c_a8667f329047row3_col1\" class=\"data row3 col1\" >-0.63719</td> \n",
       "        <td id=\"T_e82c4db4_c14c_11e8_b81c_a8667f329047row3_col2\" class=\"data row3 col2\" >63°</td> \n",
       "    </tr></tbody> \n",
       "</table> "
      ],
      "text/plain": [
       "<pandas.io.formats.style.Styler at 0x11a858748>"
      ]
     },
     "execution_count": 17,
     "metadata": {},
     "output_type": "execute_result"
    }
   ],
   "source": [
    "# specify a coalition coal you want to display\n",
    "coal = \"ACDM\"\n",
    "\n",
    "# do you wish to save the latex code for this table? \n",
    "#if yes write 1 and a valid file name, else write 0\n",
    "save = 1\n",
    "file = \"tables.tex\"\n",
    "\n",
    "# function call, arguments already inserted\n",
    "coalition_table(gene_mut, num_muts, min_vectors, maj_vectors, coal, save, file)"
   ]
  },
  {
   "cell_type": "markdown",
   "metadata": {},
   "source": [
    "#### Tables for Coalition Effects Within a Grouping of Mutation Across Different Orders  \n",
    "This function displays a table with the order, value, and position of coalitions that have as a subset the given coalition of mutations, all within a specific grouping of mutations $k$. For example, if we want to know about the mutation grouping \"CDH\" (order 3 in this case) within individuals that have 5 mutations, it will display a table with other coalitions of mutations that contain \"CDH\" of order 4 and 5. It also gives you the option to save the latex code for the table given a .tex file. It will not overwrite the file, therefore it is safe to input the same file more than once, i.e. it will write the code for the table at the end of the file without altering its other content. Be sure to input a valit .tex file.  "
   ]
  },
  {
   "cell_type": "code",
   "execution_count": 10,
   "metadata": {},
   "outputs": [
    {
     "data": {
      "text/html": [
       "<style  type=\"text/css\" >\n",
       "    #T_30f5a714_b628_11e8_afae_10ddb1f0dfb3row0_col0 {\n",
       "            color:  black;\n",
       "        }    #T_30f5a714_b628_11e8_afae_10ddb1f0dfb3row0_col1 {\n",
       "            color:  black;\n",
       "        }    #T_30f5a714_b628_11e8_afae_10ddb1f0dfb3row0_col2 {\n",
       "            color:  black;\n",
       "        }    #T_30f5a714_b628_11e8_afae_10ddb1f0dfb3row0_col3 {\n",
       "            color:  black;\n",
       "        }    #T_30f5a714_b628_11e8_afae_10ddb1f0dfb3row0_col4 {\n",
       "            color:  black;\n",
       "        }    #T_30f5a714_b628_11e8_afae_10ddb1f0dfb3row0_col5 {\n",
       "            color:  black;\n",
       "        }    #T_30f5a714_b628_11e8_afae_10ddb1f0dfb3row0_col6 {\n",
       "            color:  blue;\n",
       "        }    #T_30f5a714_b628_11e8_afae_10ddb1f0dfb3row0_col7 {\n",
       "            color:  black;\n",
       "        }    #T_30f5a714_b628_11e8_afae_10ddb1f0dfb3row1_col0 {\n",
       "            color:  black;\n",
       "        }    #T_30f5a714_b628_11e8_afae_10ddb1f0dfb3row1_col1 {\n",
       "            color:  black;\n",
       "        }    #T_30f5a714_b628_11e8_afae_10ddb1f0dfb3row1_col2 {\n",
       "            color:  red;\n",
       "        }    #T_30f5a714_b628_11e8_afae_10ddb1f0dfb3row1_col3 {\n",
       "            color:  black;\n",
       "        }    #T_30f5a714_b628_11e8_afae_10ddb1f0dfb3row1_col4 {\n",
       "            color:  black;\n",
       "        }    #T_30f5a714_b628_11e8_afae_10ddb1f0dfb3row1_col5 {\n",
       "            color:  black;\n",
       "        }    #T_30f5a714_b628_11e8_afae_10ddb1f0dfb3row1_col6 {\n",
       "            color:  blue;\n",
       "        }    #T_30f5a714_b628_11e8_afae_10ddb1f0dfb3row1_col7 {\n",
       "            color:  black;\n",
       "        }    #T_30f5a714_b628_11e8_afae_10ddb1f0dfb3row2_col0 {\n",
       "            color:  black;\n",
       "        }    #T_30f5a714_b628_11e8_afae_10ddb1f0dfb3row2_col1 {\n",
       "            color:  black;\n",
       "        }    #T_30f5a714_b628_11e8_afae_10ddb1f0dfb3row2_col2 {\n",
       "            color:  red;\n",
       "        }    #T_30f5a714_b628_11e8_afae_10ddb1f0dfb3row2_col3 {\n",
       "            color:  black;\n",
       "        }    #T_30f5a714_b628_11e8_afae_10ddb1f0dfb3row2_col4 {\n",
       "            color:  black;\n",
       "        }    #T_30f5a714_b628_11e8_afae_10ddb1f0dfb3row2_col5 {\n",
       "            color:  black;\n",
       "        }    #T_30f5a714_b628_11e8_afae_10ddb1f0dfb3row2_col6 {\n",
       "            color:  blue;\n",
       "        }    #T_30f5a714_b628_11e8_afae_10ddb1f0dfb3row2_col7 {\n",
       "            color:  black;\n",
       "        }    #T_30f5a714_b628_11e8_afae_10ddb1f0dfb3row3_col0 {\n",
       "            color:  black;\n",
       "        }    #T_30f5a714_b628_11e8_afae_10ddb1f0dfb3row3_col1 {\n",
       "            color:  black;\n",
       "        }    #T_30f5a714_b628_11e8_afae_10ddb1f0dfb3row3_col2 {\n",
       "            color:  red;\n",
       "        }    #T_30f5a714_b628_11e8_afae_10ddb1f0dfb3row3_col3 {\n",
       "            color:  black;\n",
       "        }    #T_30f5a714_b628_11e8_afae_10ddb1f0dfb3row3_col4 {\n",
       "            color:  black;\n",
       "        }    #T_30f5a714_b628_11e8_afae_10ddb1f0dfb3row3_col5 {\n",
       "            color:  black;\n",
       "        }    #T_30f5a714_b628_11e8_afae_10ddb1f0dfb3row3_col6 {\n",
       "            color:  blue;\n",
       "        }    #T_30f5a714_b628_11e8_afae_10ddb1f0dfb3row3_col7 {\n",
       "            color:  black;\n",
       "        }    #T_30f5a714_b628_11e8_afae_10ddb1f0dfb3row4_col0 {\n",
       "            color:  black;\n",
       "        }    #T_30f5a714_b628_11e8_afae_10ddb1f0dfb3row4_col1 {\n",
       "            color:  black;\n",
       "        }    #T_30f5a714_b628_11e8_afae_10ddb1f0dfb3row4_col2 {\n",
       "            color:  red;\n",
       "        }    #T_30f5a714_b628_11e8_afae_10ddb1f0dfb3row4_col3 {\n",
       "            color:  black;\n",
       "        }    #T_30f5a714_b628_11e8_afae_10ddb1f0dfb3row4_col4 {\n",
       "            color:  black;\n",
       "        }    #T_30f5a714_b628_11e8_afae_10ddb1f0dfb3row4_col5 {\n",
       "            color:  black;\n",
       "        }    #T_30f5a714_b628_11e8_afae_10ddb1f0dfb3row4_col6 {\n",
       "            color:  black;\n",
       "        }    #T_30f5a714_b628_11e8_afae_10ddb1f0dfb3row4_col7 {\n",
       "            color:  black;\n",
       "        }    #T_30f5a714_b628_11e8_afae_10ddb1f0dfb3row5_col0 {\n",
       "            color:  black;\n",
       "        }    #T_30f5a714_b628_11e8_afae_10ddb1f0dfb3row5_col1 {\n",
       "            color:  black;\n",
       "        }    #T_30f5a714_b628_11e8_afae_10ddb1f0dfb3row5_col2 {\n",
       "            color:  red;\n",
       "        }    #T_30f5a714_b628_11e8_afae_10ddb1f0dfb3row5_col3 {\n",
       "            color:  black;\n",
       "        }    #T_30f5a714_b628_11e8_afae_10ddb1f0dfb3row5_col4 {\n",
       "            color:  black;\n",
       "        }    #T_30f5a714_b628_11e8_afae_10ddb1f0dfb3row5_col5 {\n",
       "            color:  black;\n",
       "        }    #T_30f5a714_b628_11e8_afae_10ddb1f0dfb3row5_col6 {\n",
       "            color:  blue;\n",
       "        }    #T_30f5a714_b628_11e8_afae_10ddb1f0dfb3row5_col7 {\n",
       "            color:  black;\n",
       "        }    #T_30f5a714_b628_11e8_afae_10ddb1f0dfb3row6_col0 {\n",
       "            color:  black;\n",
       "        }    #T_30f5a714_b628_11e8_afae_10ddb1f0dfb3row6_col1 {\n",
       "            color:  black;\n",
       "        }    #T_30f5a714_b628_11e8_afae_10ddb1f0dfb3row6_col2 {\n",
       "            color:  red;\n",
       "        }    #T_30f5a714_b628_11e8_afae_10ddb1f0dfb3row6_col3 {\n",
       "            color:  black;\n",
       "        }    #T_30f5a714_b628_11e8_afae_10ddb1f0dfb3row6_col4 {\n",
       "            color:  black;\n",
       "        }    #T_30f5a714_b628_11e8_afae_10ddb1f0dfb3row6_col5 {\n",
       "            color:  black;\n",
       "        }    #T_30f5a714_b628_11e8_afae_10ddb1f0dfb3row6_col6 {\n",
       "            color:  blue;\n",
       "        }    #T_30f5a714_b628_11e8_afae_10ddb1f0dfb3row6_col7 {\n",
       "            color:  black;\n",
       "        }    #T_30f5a714_b628_11e8_afae_10ddb1f0dfb3row7_col0 {\n",
       "            color:  black;\n",
       "        }    #T_30f5a714_b628_11e8_afae_10ddb1f0dfb3row7_col1 {\n",
       "            color:  black;\n",
       "        }    #T_30f5a714_b628_11e8_afae_10ddb1f0dfb3row7_col2 {\n",
       "            color:  red;\n",
       "        }    #T_30f5a714_b628_11e8_afae_10ddb1f0dfb3row7_col3 {\n",
       "            color:  black;\n",
       "        }    #T_30f5a714_b628_11e8_afae_10ddb1f0dfb3row7_col4 {\n",
       "            color:  black;\n",
       "        }    #T_30f5a714_b628_11e8_afae_10ddb1f0dfb3row7_col5 {\n",
       "            color:  black;\n",
       "        }    #T_30f5a714_b628_11e8_afae_10ddb1f0dfb3row7_col6 {\n",
       "            color:  blue;\n",
       "        }    #T_30f5a714_b628_11e8_afae_10ddb1f0dfb3row7_col7 {\n",
       "            color:  black;\n",
       "        }    #T_30f5a714_b628_11e8_afae_10ddb1f0dfb3row8_col0 {\n",
       "            color:  black;\n",
       "        }    #T_30f5a714_b628_11e8_afae_10ddb1f0dfb3row8_col1 {\n",
       "            color:  black;\n",
       "        }    #T_30f5a714_b628_11e8_afae_10ddb1f0dfb3row8_col2 {\n",
       "            color:  red;\n",
       "        }    #T_30f5a714_b628_11e8_afae_10ddb1f0dfb3row8_col3 {\n",
       "            color:  black;\n",
       "        }    #T_30f5a714_b628_11e8_afae_10ddb1f0dfb3row8_col4 {\n",
       "            color:  black;\n",
       "        }    #T_30f5a714_b628_11e8_afae_10ddb1f0dfb3row8_col5 {\n",
       "            color:  black;\n",
       "        }    #T_30f5a714_b628_11e8_afae_10ddb1f0dfb3row8_col6 {\n",
       "            color:  blue;\n",
       "        }    #T_30f5a714_b628_11e8_afae_10ddb1f0dfb3row8_col7 {\n",
       "            color:  black;\n",
       "        }</style>  \n",
       "<table id=\"T_30f5a714_b628_11e8_afae_10ddb1f0dfb3\" > \n",
       "<thead>    <tr> \n",
       "        <th class=\"blank level0\" ></th> \n",
       "        <th class=\"col_heading level0 col0\" >+Order</th> \n",
       "        <th class=\"col_heading level0 col1\" >+Coalition</th> \n",
       "        <th class=\"col_heading level0 col2\" >+Value</th> \n",
       "        <th class=\"col_heading level0 col3\" >+Position</th> \n",
       "        <th class=\"col_heading level0 col4\" >-Order</th> \n",
       "        <th class=\"col_heading level0 col5\" >-Coalition</th> \n",
       "        <th class=\"col_heading level0 col6\" >-Value</th> \n",
       "        <th class=\"col_heading level0 col7\" >-Position</th> \n",
       "    </tr></thead> \n",
       "<tbody>    <tr> \n",
       "        <th id=\"T_30f5a714_b628_11e8_afae_10ddb1f0dfb3level0_row0\" class=\"row_heading level0 row0\" >0</th> \n",
       "        <td id=\"T_30f5a714_b628_11e8_afae_10ddb1f0dfb3row0_col0\" class=\"data row0 col0\" >None</td> \n",
       "        <td id=\"T_30f5a714_b628_11e8_afae_10ddb1f0dfb3row0_col1\" class=\"data row0 col1\" >None</td> \n",
       "        <td id=\"T_30f5a714_b628_11e8_afae_10ddb1f0dfb3row0_col2\" class=\"data row0 col2\" >nan</td> \n",
       "        <td id=\"T_30f5a714_b628_11e8_afae_10ddb1f0dfb3row0_col3\" class=\"data row0 col3\" >nan</td> \n",
       "        <td id=\"T_30f5a714_b628_11e8_afae_10ddb1f0dfb3row0_col4\" class=\"data row0 col4\" >3°</td> \n",
       "        <td id=\"T_30f5a714_b628_11e8_afae_10ddb1f0dfb3row0_col5\" class=\"data row0 col5\" >A, C, D</td> \n",
       "        <td id=\"T_30f5a714_b628_11e8_afae_10ddb1f0dfb3row0_col6\" class=\"data row0 col6\" >-5.14522</td> \n",
       "        <td id=\"T_30f5a714_b628_11e8_afae_10ddb1f0dfb3row0_col7\" class=\"data row0 col7\" >32</td> \n",
       "    </tr>    <tr> \n",
       "        <th id=\"T_30f5a714_b628_11e8_afae_10ddb1f0dfb3level0_row1\" class=\"row_heading level0 row1\" >1</th> \n",
       "        <td id=\"T_30f5a714_b628_11e8_afae_10ddb1f0dfb3row1_col0\" class=\"data row1 col0\" >4°</td> \n",
       "        <td id=\"T_30f5a714_b628_11e8_afae_10ddb1f0dfb3row1_col1\" class=\"data row1 col1\" >A, B, C, D</td> \n",
       "        <td id=\"T_30f5a714_b628_11e8_afae_10ddb1f0dfb3row1_col2\" class=\"data row1 col2\" >12.1473</td> \n",
       "        <td id=\"T_30f5a714_b628_11e8_afae_10ddb1f0dfb3row1_col3\" class=\"data row1 col3\" >13</td> \n",
       "        <td id=\"T_30f5a714_b628_11e8_afae_10ddb1f0dfb3row1_col4\" class=\"data row1 col4\" >4°</td> \n",
       "        <td id=\"T_30f5a714_b628_11e8_afae_10ddb1f0dfb3row1_col5\" class=\"data row1 col5\" >A, C, D, H</td> \n",
       "        <td id=\"T_30f5a714_b628_11e8_afae_10ddb1f0dfb3row1_col6\" class=\"data row1 col6\" >-3.73394</td> \n",
       "        <td id=\"T_30f5a714_b628_11e8_afae_10ddb1f0dfb3row1_col7\" class=\"data row1 col7\" >29</td> \n",
       "    </tr>    <tr> \n",
       "        <th id=\"T_30f5a714_b628_11e8_afae_10ddb1f0dfb3level0_row2\" class=\"row_heading level0 row2\" >2</th> \n",
       "        <td id=\"T_30f5a714_b628_11e8_afae_10ddb1f0dfb3row2_col0\" class=\"data row2 col0\" >4°</td> \n",
       "        <td id=\"T_30f5a714_b628_11e8_afae_10ddb1f0dfb3row2_col1\" class=\"data row2 col1\" >A, C, D, J</td> \n",
       "        <td id=\"T_30f5a714_b628_11e8_afae_10ddb1f0dfb3row2_col2\" class=\"data row2 col2\" >12.0801</td> \n",
       "        <td id=\"T_30f5a714_b628_11e8_afae_10ddb1f0dfb3row2_col3\" class=\"data row2 col3\" >14</td> \n",
       "        <td id=\"T_30f5a714_b628_11e8_afae_10ddb1f0dfb3row2_col4\" class=\"data row2 col4\" >4°</td> \n",
       "        <td id=\"T_30f5a714_b628_11e8_afae_10ddb1f0dfb3row2_col5\" class=\"data row2 col5\" >A, C, D, F</td> \n",
       "        <td id=\"T_30f5a714_b628_11e8_afae_10ddb1f0dfb3row2_col6\" class=\"data row2 col6\" >-16.747</td> \n",
       "        <td id=\"T_30f5a714_b628_11e8_afae_10ddb1f0dfb3row2_col7\" class=\"data row2 col7\" >11</td> \n",
       "    </tr>    <tr> \n",
       "        <th id=\"T_30f5a714_b628_11e8_afae_10ddb1f0dfb3level0_row3\" class=\"row_heading level0 row3\" >3</th> \n",
       "        <td id=\"T_30f5a714_b628_11e8_afae_10ddb1f0dfb3row3_col0\" class=\"data row3 col0\" >4°</td> \n",
       "        <td id=\"T_30f5a714_b628_11e8_afae_10ddb1f0dfb3row3_col1\" class=\"data row3 col1\" >A, C, D, G</td> \n",
       "        <td id=\"T_30f5a714_b628_11e8_afae_10ddb1f0dfb3row3_col2\" class=\"data row3 col2\" >8.16257</td> \n",
       "        <td id=\"T_30f5a714_b628_11e8_afae_10ddb1f0dfb3row3_col3\" class=\"data row3 col3\" >24</td> \n",
       "        <td id=\"T_30f5a714_b628_11e8_afae_10ddb1f0dfb3row3_col4\" class=\"data row3 col4\" >4°</td> \n",
       "        <td id=\"T_30f5a714_b628_11e8_afae_10ddb1f0dfb3row3_col5\" class=\"data row3 col5\" >A, C, D, M</td> \n",
       "        <td id=\"T_30f5a714_b628_11e8_afae_10ddb1f0dfb3row3_col6\" class=\"data row3 col6\" >-22.5018</td> \n",
       "        <td id=\"T_30f5a714_b628_11e8_afae_10ddb1f0dfb3row3_col7\" class=\"data row3 col7\" >3</td> \n",
       "    </tr>    <tr> \n",
       "        <th id=\"T_30f5a714_b628_11e8_afae_10ddb1f0dfb3level0_row4\" class=\"row_heading level0 row4\" >4</th> \n",
       "        <td id=\"T_30f5a714_b628_11e8_afae_10ddb1f0dfb3row4_col0\" class=\"data row4 col0\" >4°</td> \n",
       "        <td id=\"T_30f5a714_b628_11e8_afae_10ddb1f0dfb3row4_col1\" class=\"data row4 col1\" >A, C, D, E</td> \n",
       "        <td id=\"T_30f5a714_b628_11e8_afae_10ddb1f0dfb3row4_col2\" class=\"data row4 col2\" >2.82303</td> \n",
       "        <td id=\"T_30f5a714_b628_11e8_afae_10ddb1f0dfb3row4_col3\" class=\"data row4 col3\" >48</td> \n",
       "        <td id=\"T_30f5a714_b628_11e8_afae_10ddb1f0dfb3row4_col4\" class=\"data row4 col4\" >None</td> \n",
       "        <td id=\"T_30f5a714_b628_11e8_afae_10ddb1f0dfb3row4_col5\" class=\"data row4 col5\" >None</td> \n",
       "        <td id=\"T_30f5a714_b628_11e8_afae_10ddb1f0dfb3row4_col6\" class=\"data row4 col6\" >nan</td> \n",
       "        <td id=\"T_30f5a714_b628_11e8_afae_10ddb1f0dfb3row4_col7\" class=\"data row4 col7\" >nan</td> \n",
       "    </tr>    <tr> \n",
       "        <th id=\"T_30f5a714_b628_11e8_afae_10ddb1f0dfb3level0_row5\" class=\"row_heading level0 row5\" >5</th> \n",
       "        <td id=\"T_30f5a714_b628_11e8_afae_10ddb1f0dfb3row5_col0\" class=\"data row5 col0\" >5°</td> \n",
       "        <td id=\"T_30f5a714_b628_11e8_afae_10ddb1f0dfb3row5_col1\" class=\"data row5 col1\" >A, C, D, G, J</td> \n",
       "        <td id=\"T_30f5a714_b628_11e8_afae_10ddb1f0dfb3row5_col2\" class=\"data row5 col2\" >15.23</td> \n",
       "        <td id=\"T_30f5a714_b628_11e8_afae_10ddb1f0dfb3row5_col3\" class=\"data row5 col3\" >2</td> \n",
       "        <td id=\"T_30f5a714_b628_11e8_afae_10ddb1f0dfb3row5_col4\" class=\"data row5 col4\" >5°</td> \n",
       "        <td id=\"T_30f5a714_b628_11e8_afae_10ddb1f0dfb3row5_col5\" class=\"data row5 col5\" >A, C, D, F, M</td> \n",
       "        <td id=\"T_30f5a714_b628_11e8_afae_10ddb1f0dfb3row5_col6\" class=\"data row5 col6\" >-3.23139</td> \n",
       "        <td id=\"T_30f5a714_b628_11e8_afae_10ddb1f0dfb3row5_col7\" class=\"data row5 col7\" >11</td> \n",
       "    </tr>    <tr> \n",
       "        <th id=\"T_30f5a714_b628_11e8_afae_10ddb1f0dfb3level0_row6\" class=\"row_heading level0 row6\" >6</th> \n",
       "        <td id=\"T_30f5a714_b628_11e8_afae_10ddb1f0dfb3row6_col0\" class=\"data row6 col0\" >5°</td> \n",
       "        <td id=\"T_30f5a714_b628_11e8_afae_10ddb1f0dfb3row6_col1\" class=\"data row6 col1\" >A, B, C, D, H</td> \n",
       "        <td id=\"T_30f5a714_b628_11e8_afae_10ddb1f0dfb3row6_col2\" class=\"data row6 col2\" >14.0058</td> \n",
       "        <td id=\"T_30f5a714_b628_11e8_afae_10ddb1f0dfb3row6_col3\" class=\"data row6 col3\" >3</td> \n",
       "        <td id=\"T_30f5a714_b628_11e8_afae_10ddb1f0dfb3row6_col4\" class=\"data row6 col4\" >5°</td> \n",
       "        <td id=\"T_30f5a714_b628_11e8_afae_10ddb1f0dfb3row6_col5\" class=\"data row6 col5\" >A, C, D, F, H</td> \n",
       "        <td id=\"T_30f5a714_b628_11e8_afae_10ddb1f0dfb3row6_col6\" class=\"data row6 col6\" >-7.66208</td> \n",
       "        <td id=\"T_30f5a714_b628_11e8_afae_10ddb1f0dfb3row6_col7\" class=\"data row6 col7\" >9</td> \n",
       "    </tr>    <tr> \n",
       "        <th id=\"T_30f5a714_b628_11e8_afae_10ddb1f0dfb3level0_row7\" class=\"row_heading level0 row7\" >7</th> \n",
       "        <td id=\"T_30f5a714_b628_11e8_afae_10ddb1f0dfb3row7_col0\" class=\"data row7 col0\" >5°</td> \n",
       "        <td id=\"T_30f5a714_b628_11e8_afae_10ddb1f0dfb3row7_col1\" class=\"data row7 col1\" >A, C, D, E, J</td> \n",
       "        <td id=\"T_30f5a714_b628_11e8_afae_10ddb1f0dfb3row7_col2\" class=\"data row7 col2\" >9.86029</td> \n",
       "        <td id=\"T_30f5a714_b628_11e8_afae_10ddb1f0dfb3row7_col3\" class=\"data row7 col3\" >5</td> \n",
       "        <td id=\"T_30f5a714_b628_11e8_afae_10ddb1f0dfb3row7_col4\" class=\"data row7 col4\" >5°</td> \n",
       "        <td id=\"T_30f5a714_b628_11e8_afae_10ddb1f0dfb3row7_col5\" class=\"data row7 col5\" >A, C, D, E, M</td> \n",
       "        <td id=\"T_30f5a714_b628_11e8_afae_10ddb1f0dfb3row7_col6\" class=\"data row7 col6\" >-10.5996</td> \n",
       "        <td id=\"T_30f5a714_b628_11e8_afae_10ddb1f0dfb3row7_col7\" class=\"data row7 col7\" >3</td> \n",
       "    </tr>    <tr> \n",
       "        <th id=\"T_30f5a714_b628_11e8_afae_10ddb1f0dfb3level0_row8\" class=\"row_heading level0 row8\" >8</th> \n",
       "        <td id=\"T_30f5a714_b628_11e8_afae_10ddb1f0dfb3row8_col0\" class=\"data row8 col0\" >5°</td> \n",
       "        <td id=\"T_30f5a714_b628_11e8_afae_10ddb1f0dfb3row8_col1\" class=\"data row8 col1\" >A, C, D, E, H</td> \n",
       "        <td id=\"T_30f5a714_b628_11e8_afae_10ddb1f0dfb3row8_col2\" class=\"data row8 col2\" >6.11777</td> \n",
       "        <td id=\"T_30f5a714_b628_11e8_afae_10ddb1f0dfb3row8_col3\" class=\"data row8 col3\" >9</td> \n",
       "        <td id=\"T_30f5a714_b628_11e8_afae_10ddb1f0dfb3row8_col4\" class=\"data row8 col4\" >5°</td> \n",
       "        <td id=\"T_30f5a714_b628_11e8_afae_10ddb1f0dfb3row8_col5\" class=\"data row8 col5\" >A, C, D, H, J</td> \n",
       "        <td id=\"T_30f5a714_b628_11e8_afae_10ddb1f0dfb3row8_col6\" class=\"data row8 col6\" >-13.953</td> \n",
       "        <td id=\"T_30f5a714_b628_11e8_afae_10ddb1f0dfb3row8_col7\" class=\"data row8 col7\" >2</td> \n",
       "    </tr></tbody> \n",
       "</table> "
      ],
      "text/plain": [
       "<pandas.io.formats.style.Styler at 0x10b7bcb38>"
      ]
     },
     "execution_count": 10,
     "metadata": {},
     "output_type": "execute_result"
    }
   ],
   "source": [
    "# input a grouping of mutations k and a coalition you want to display\n",
    "k = 5\n",
    "coalition = \"ACD\"\n",
    "\n",
    "# do you wish to save the latex code for this table? \n",
    "# if yes write 1 and a valid file name, else write 0\n",
    "save = 0\n",
    "file = \"mytable.tex\"\n",
    "\n",
    "# function call, arguments already inserted\n",
    "grouping_table(gene_mut, num_muts, min_vectors, maj_vectors, coalition, k, save, file)"
   ]
  },
  {
   "cell_type": "markdown",
   "metadata": {},
   "source": [
    "### Scatterplots  \n",
    "This function plots the response variable of all individuals in the dataset. It also colors individuals with one or two specified coalitions and plots a line with the average phenotype response of said individuals. To use this function, specify one or two coalitions and a list of colors. If you want to plot two coalitions, you must specify three colors; the third color will be used for individuals that have both coalitions (if there are any). If you want to plot only one coalition specify one color and write $None$ next to the input prompt $coalition2$. The fourth and fifth arguments are for specifying if you want to save the graph in a file, the first is a bool and the second a string with the name of the file where you would like to save the graph. If the user does not want to save the graph, it does not matter what string is given as input for the seventh parameter.  "
   ]
  },
  {
   "cell_type": "code",
   "execution_count": 11,
   "metadata": {},
   "outputs": [
    {
     "data": {
      "image/png": "[encoded data removed]",
      "text/plain": [
       "<Figure size 432x288 with 1 Axes>"
      ]
     },
     "metadata": {
      "needs_background": "light"
     },
     "output_type": "display_data"
    }
   ],
   "source": [
    "# specify coalitions you want to plot\n",
    "# if you only want to plot one coalition, write coalition2 = None\n",
    "coalition1 = \"BCD\"\n",
    "coalition2 = \"ACDM\"\n",
    "\n",
    "# specify one color if you want to plot one coalition only\n",
    "# specify three colors if you want to plot two coalitions\n",
    "colors = [\"blue\",\"red\",\"green\"]\n",
    "\n",
    "# do you wish to save the latex code for this table? \n",
    "# if yes write 1 and a valid file name, else write 0\n",
    "save = 0\n",
    "file = \"PlotsPoster\"\n",
    "\n",
    "# function call, arguments already inserted\n",
    "scatterplot_colored(gene_mut, data_phenotype, reduction, save, file, colors, coalition1, coalition2)"
   ]
  },
  {
   "cell_type": "markdown",
   "metadata": {},
   "source": [
    "### Extracting Values from Dataset"
   ]
  },
  {
   "cell_type": "markdown",
   "metadata": {},
   "source": [
    "#### Phenotype Response of Individuals with a Specified Coalition and Grouping $k$  \n",
    "This function returns the response varibale (stored in variable p) and the mutations of individuals (stored in variable m) that have a specific coalition (third argument), and a grouping $k$ (second argument). The first argument is the total number of mutations and the fourth argument is $sub\\_data$.  "
   ]
  },
  {
   "cell_type": "code",
   "execution_count": 12,
   "metadata": {},
   "outputs": [],
   "source": [
    "# input a grouping of mutations k and a coalition\n",
    "k = 8\n",
    "coalition = \"A\"\n",
    "\n",
    "# function call, arguments already inserted\n",
    "p, m = get_response(num_muts, k, coalition, sub_data)"
   ]
  },
  {
   "cell_type": "code",
   "execution_count": 13,
   "metadata": {},
   "outputs": [
    {
     "name": "stdout",
     "output_type": "stream",
     "text": [
      "173.0 ABCDFGHJ\n",
      "111.0 ABDEGKLM\n"
     ]
    }
   ],
   "source": [
    "# print to see values \n",
    "for i in range(len(p)):\n",
    "    print(p[i], m[i])"
   ]
  },
  {
   "cell_type": "code",
   "execution_count": null,
   "metadata": {},
   "outputs": [],
   "source": []
  }
 ],
 "metadata": {
  "kernelspec": {
   "display_name": "Python 3",
   "language": "python",
   "name": "python3"
  },
  "language_info": {
   "codemirror_mode": {
    "name": "ipython",
    "version": 3
   },
   "file_extension": ".py",
   "mimetype": "text/x-python",
   "name": "python",
   "nbconvert_exporter": "python",
   "pygments_lexer": "ipython3",
   "version": "3.7.0"
  }
 },
 "nbformat": 4,
 "nbformat_minor": 2
}
